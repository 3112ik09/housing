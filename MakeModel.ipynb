{
 "cells": [
  {
   "cell_type": "code",
   "execution_count": 1,
   "metadata": {},
   "outputs": [],
   "source": [
    "import pandas as pd \n",
    "import numpy as np \n",
    "import matplotlib.pyplot as plt \n",
    "import seaborn as sns \n",
    "from sklearn.preprocessing import MinMaxScaler\n",
    "from sklearn.model_selection import train_test_split , cross_val_score \n",
    "from sklearn.linear_model import LinearRegression \n",
    "from sklearn.tree import DecisionTreeRegressor\n",
    "from sklearn.ensemble import RandomForestRegressor\n",
    "from sklearn.metrics import mean_squared_error"
   ]
  },
  {
   "cell_type": "code",
   "execution_count": 13,
   "metadata": {},
   "outputs": [
    {
     "name": "stdout",
     "output_type": "stream",
     "text": [
      "         DATE      TLRESCONS       PERMIT     COMPUTSA  EVACANTUSQ176N   \n",
      "0  2003-01-01  421328.666667  1806.333333  1660.000000         14908.0  \\\n",
      "1  2003-04-01  429308.666667  1837.666667  1678.666667         15244.0   \n",
      "2  2003-07-01  458890.000000  1937.333333  1656.333333         15614.0   \n",
      "3  2003-10-01  491437.333333  1972.333333  1712.000000         15654.0   \n",
      "4  2004-01-01  506856.333333  1994.666667  1740.333333         15895.0   \n",
      "\n",
      "     MSACSR   CSUSHPISA  \n",
      "0  4.200000  129.320667  \n",
      "1  3.833333  131.755667  \n",
      "2  3.633333  135.013000  \n",
      "3  3.966667  138.834667  \n",
      "4  3.700000  143.298667  \n"
     ]
    }
   ],
   "source": [
    "df_supply = pd.read_csv(\"supply.csv\")\n",
    "print(df_supply.head())"
   ]
  },
  {
   "cell_type": "code",
   "execution_count": 14,
   "metadata": {},
   "outputs": [
    {
     "name": "stdout",
     "output_type": "stream",
     "text": [
      "         DATE         POPTHM        GDP  InterestRateRealEstate  MORTGAGE15US   \n",
      "0  2003-01-01  289609.000000  11174.129                155242.0      5.204615  \\\n",
      "1  2003-04-01  290252.666667  11312.766                153368.0      4.867692   \n",
      "2  2003-07-01  290974.000000  11566.669                149239.0      5.356923   \n",
      "3  2003-10-01  291669.333333  11772.234                151454.0      5.248571   \n",
      "4  2004-01-01  292236.666667  11923.447                160762.0      4.897500   \n",
      "\n",
      "     UMCSENT     MSPUS   CSUSHPISA  \n",
      "0  79.966667  186000.0  129.320667  \n",
      "1  89.266667  191800.0  131.755667  \n",
      "2  89.300000  191900.0  135.013000  \n",
      "3  91.966667  198800.0  138.834667  \n",
      "4  98.000000  212700.0  143.298667  \n"
     ]
    }
   ],
   "source": [
    "df_demand = pd.read_csv(\"Demand.csv\")\n",
    "print(df_demand.head())"
   ]
  },
  {
   "cell_type": "code",
   "execution_count": 19,
   "metadata": {},
   "outputs": [],
   "source": [
    "df_demand_features = df_demand.drop( [\"DATE\",\"CSUSHPISA\"]  , axis=1)\n",
    "df_supply_features = df_supply.drop( [\"DATE\",\"CSUSHPISA\"] , axis=1)\n",
    "df_demand_target = df_demand[\"CSUSHPISA\"]\n",
    "df_supply_target = df_supply[\"CSUSHPISA\"]"
   ]
  },
  {
   "cell_type": "code",
   "execution_count": 17,
   "metadata": {},
   "outputs": [
    {
     "name": "stdout",
     "output_type": "stream",
     "text": [
      "   TLRESCONS    PERMIT  COMPUTSA  EVACANTUSQ176N    MSACSR\n",
      "0   0.240093  0.750247  0.710017        0.196160  0.103734\n",
      "1   0.251080  0.768791  0.722055        0.260027  0.058091\n",
      "2   0.291810  0.827777  0.707653        0.330355  0.033195\n",
      "3   0.336623  0.848491  0.743551        0.337959  0.074689\n",
      "4   0.357853  0.861708  0.761823        0.383767  0.041494\n"
     ]
    }
   ],
   "source": [
    "scaler  = MinMaxScaler()\n",
    "scaler.fit_transform(df_supply_features)\n",
    "supply_scaled = scaler.transform(df_supply_features)\n",
    "df_supply_scaled = pd.DataFrame(supply_scaled , columns=df_supply_features.columns)\n",
    "print(df_supply_scaled.head())"
   ]
  },
  {
   "cell_type": "code",
   "execution_count": 18,
   "metadata": {},
   "outputs": [
    {
     "name": "stdout",
     "output_type": "stream",
     "text": [
      "     POPTHM       GDP  InterestRateRealEstate  MORTGAGE15US   UMCSENT   \n",
      "0  0.000000  0.000000                0.028940      0.747637  0.557198  \\\n",
      "1  0.014294  0.009028                0.019906      0.664590  0.774319   \n",
      "2  0.030312  0.025563                0.000000      0.785178  0.775097   \n",
      "3  0.045753  0.038950                0.010678      0.758471  0.837354   \n",
      "4  0.058351  0.048798                0.055552      0.671937  0.978210   \n",
      "\n",
      "      MSPUS  \n",
      "0  0.000000  \n",
      "1  0.019761  \n",
      "2  0.020102  \n",
      "3  0.043612  \n",
      "4  0.090971  \n"
     ]
    }
   ],
   "source": [
    "scaler.fit_transform(df_demand_features)\n",
    "demand_scaled = scaler.transform(df_demand_features)\n",
    "df_demand_scaled = pd.DataFrame(demand_scaled , columns=df_demand_features.columns)\n",
    "print(df_demand_scaled.head())"
   ]
  },
  {
   "cell_type": "code",
   "execution_count": 20,
   "metadata": {},
   "outputs": [],
   "source": [
    "# First Model that uses only target \n",
    "x_train_supply , x_test_supply , y_train_supply , y_test_supply = train_test_split(df_supply_scaled , df_supply_features , test_size=0.2 , random_state=42)"
   ]
  },
  {
   "cell_type": "code",
   "execution_count": null,
   "metadata": {},
   "outputs": [],
   "source": [
    "models = {\n",
    "    'Linear Regression': LinearRegression(),\n",
    "    'Decision Tree': DecisionTreeRegressor(),\n",
    "    'Random Forest': RandomForestRegressor(),\n",
    "}\n",
    "\n",
    "results = {}\n",
    "for model_name, model in models.items():\n",
    "    scores = cross_val_score(model, X_train, y_train, cv=5, scoring='neg_mean_squared_error')\n",
    "    mse_scores = -scores\n",
    "    avg_mse = mse_scores.mean()\n",
    "    results[model_name] = avg_mse\n",
    "\n",
    "\n",
    "best_model = min(results, key=results.get)\n",
    "best_model_instance = models[best_model]\n",
    "\n",
    "\n",
    "best_model_instance.fit(X_train, y_train)\n",
    "\n",
    "\n",
    "predictions = best_model_instance.predict(X_test)\n",
    "mse = mean_squared_error(y_test, predictions)\n",
    "\n",
    "\n",
    "print(\"Model Selection Results:\")\n",
    "for model, mse_score in results.items():\n",
    "    print(f\"{model}: MSE={mse_score}\")\n",
    "\n",
    "print(f\"\\nBest Model: {best_model}\")\n",
    "print(f\"Best Model MSE on Testing Set: {mse}\")"
   ]
  }
 ],
 "metadata": {
  "kernelspec": {
   "display_name": "Python 3",
   "language": "python",
   "name": "python3"
  },
  "language_info": {
   "codemirror_mode": {
    "name": "ipython",
    "version": 3
   },
   "file_extension": ".py",
   "mimetype": "text/x-python",
   "name": "python",
   "nbconvert_exporter": "python",
   "pygments_lexer": "ipython3",
   "version": "3.8.10"
  },
  "orig_nbformat": 4
 },
 "nbformat": 4,
 "nbformat_minor": 2
}
