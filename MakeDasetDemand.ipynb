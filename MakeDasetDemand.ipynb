{
 "cells": [
  {
   "cell_type": "code",
   "execution_count": null,
   "metadata": {},
   "outputs": [],
   "source": []
  },
  {
   "cell_type": "markdown",
   "metadata": {},
   "source": [
    " Interest Rates and Price Indexes; Commercial Real Estate Price Index, Level : Units: Millions of Dollars, Not Seasonally Adjusted\n",
    " \n",
    " https://fred.stlouisfed.org/series/BOGZ1FL075035503Q"
   ]
  },
  {
   "cell_type": "markdown",
   "metadata": {},
   "source": []
  }
 ],
 "metadata": {
  "language_info": {
   "name": "python"
  },
  "orig_nbformat": 4
 },
 "nbformat": 4,
 "nbformat_minor": 2
}
